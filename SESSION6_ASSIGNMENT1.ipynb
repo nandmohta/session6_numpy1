{
 "cells": [
  {
   "cell_type": "code",
   "execution_count": 1,
   "metadata": {},
   "outputs": [
    {
     "name": "stdout",
     "output_type": "stream",
     "text": [
      "Output using Vander Method : \n",
      " [[  1   1   1   1]\n",
      " [  8   4   2   1]\n",
      " [ 27   9   3   1]\n",
      " [ 64  16   4   1]\n",
      " [125  25   5   1]]\n",
      "\n",
      "Output using self written method : \n",
      " [[  1   1   1   1]\n",
      " [  8   4   2   1]\n",
      " [ 27   9   3   1]\n",
      " [ 64  16   4   1]\n",
      " [125  25   5   1]]\n"
     ]
    }
   ],
   "source": [
    "import numpy as np\n",
    "\n",
    "def nander(matt,n,boolean):\n",
    "    '''\n",
    "     This function returns matrix that has columns which are powers of the input vector..\n",
    "     \n",
    "     INPUT: matt - List of Values for which we need Vander Matrix Prepared\n",
    "            n - No of columns we need for the matrix\n",
    "            boolean - True - the first column in the input vectore is power of N with reduced element wise for next column\n",
    "                      False - the i-th output column in the input vector raised element-wise\n",
    "                              to the power of N - i - 1\n",
    "     OUTPUT: Matrix that has columns that are powers of input vector \n",
    "    '''\n",
    "    # Variable to store one row of input vector raised element-wise to the power of N\n",
    "    values = []\n",
    "    # Variable to store the output in Matrix Form\n",
    "    arr =[]\n",
    "\n",
    "    for j in range(0,matt.size):\n",
    "        #if boolean is True the first column in the input vectore is raised element wise to the power of N\n",
    "        if(boolean):    \n",
    "            #Loop to create the vectore based on the input arr / list\n",
    "            for i in range(0,n):                \n",
    "                # Appending the input arrays / list jth element to the power of i value \n",
    "                values.append(matt[j]**i)    \n",
    "        #if boolean is False the first column in the input vectore is raised element wise to the power of N-i-1\n",
    "        else:\n",
    "            for i in range(n-1,-1,-1):\n",
    "                # Appending the input arrays / list jth element to the power of i value \n",
    "                values.append(matt[j]**i)\n",
    "        \n",
    "        # Appending the rows of array in to the arr variable to form the Matrix\n",
    "        arr.append(values)\n",
    "        # Rest the Values to create new array list for the next element in the input array list\n",
    "        values =[]\n",
    "                \n",
    "        \n",
    "    return np.array(arr)\n",
    "\n",
    "\n",
    "mat = np.array([1,2,3,4,5])\n",
    "N = 4\n",
    "\n",
    "print(f'Output using Vander Method : \\n {np.vander(mat,N,False)}')\n",
    "\n",
    "print(f'\\nOutput using self written method : \\n {nander(mat,N,False)}')"
   ]
  },
  {
   "cell_type": "code",
   "execution_count": null,
   "metadata": {},
   "outputs": [],
   "source": []
  }
 ],
 "metadata": {
  "kernelspec": {
   "display_name": "Python 3",
   "language": "python",
   "name": "python3"
  },
  "language_info": {
   "codemirror_mode": {
    "name": "ipython",
    "version": 3
   },
   "file_extension": ".py",
   "mimetype": "text/x-python",
   "name": "python",
   "nbconvert_exporter": "python",
   "pygments_lexer": "ipython3",
   "version": "3.6.5"
  }
 },
 "nbformat": 4,
 "nbformat_minor": 2
}
